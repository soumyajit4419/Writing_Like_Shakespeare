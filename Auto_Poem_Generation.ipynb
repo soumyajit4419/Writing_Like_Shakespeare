{
  "nbformat": 4,
  "nbformat_minor": 0,
  "metadata": {
    "colab": {
      "name": "Auto_Poem_Generation.ipynb",
      "provenance": [],
      "collapsed_sections": []
    },
    "kernelspec": {
      "name": "python3",
      "display_name": "Python 3"
    },
    "accelerator": "GPU"
  },
  "cells": [
    {
      "cell_type": "code",
      "metadata": {
        "id": "TWnyFNSCD_6C",
        "colab_type": "code",
        "colab": {}
      },
      "source": [
        "import pandas as pd\n",
        "import numpy as np\n",
        "import matplotlib.pyplot as plt"
      ],
      "execution_count": 0,
      "outputs": []
    },
    {
      "cell_type": "code",
      "metadata": {
        "id": "LM50eBzoE_D6",
        "colab_type": "code",
        "colab": {}
      },
      "source": [
        "from tensorflow.keras.models import Sequential\n",
        "from tensorflow.keras.layers import Dense\n",
        "from tensorflow.keras.layers import Dropout\n",
        "from tensorflow.keras.layers import LSTM\n",
        "from tensorflow.keras.layers import Bidirectional\n",
        "from tensorflow.keras.layers import Embedding"
      ],
      "execution_count": 0,
      "outputs": []
    },
    {
      "cell_type": "code",
      "metadata": {
        "id": "AJZhaCDYFcRD",
        "colab_type": "code",
        "colab": {}
      },
      "source": [
        "from tensorflow.keras.preprocessing.text import Tokenizer\n",
        "from tensorflow.keras.preprocessing.sequence import pad_sequences\n",
        "import tensorflow.keras.utils as ku"
      ],
      "execution_count": 0,
      "outputs": []
    },
    {
      "cell_type": "code",
      "metadata": {
        "id": "-hfNw7FeFqxa",
        "colab_type": "code",
        "colab": {
          "base_uri": "https://localhost:8080/",
          "height": 209
        },
        "outputId": "521ab6ca-f429-4c21-a1c9-38c0d88e4cb0"
      },
      "source": [
        "# using an api to get the data\n",
        "!wget --no-check-certificate \\\n",
        "    https://storage.googleapis.com/laurencemoroney-blog.appspot.com/sonnets.txt \\\n",
        "    -O /tmp/sonnets.txt\n",
        "text = open('/tmp/sonnets.txt').read().splitlines()"
      ],
      "execution_count": 4,
      "outputs": [
        {
          "output_type": "stream",
          "text": [
            "--2020-04-30 04:40:28--  https://storage.googleapis.com/laurencemoroney-blog.appspot.com/sonnets.txt\n",
            "Resolving storage.googleapis.com (storage.googleapis.com)... 173.194.79.128, 2a00:1450:4013:c04::80\n",
            "Connecting to storage.googleapis.com (storage.googleapis.com)|173.194.79.128|:443... connected.\n",
            "HTTP request sent, awaiting response... 200 OK\n",
            "Length: 93578 (91K) [text/plain]\n",
            "Saving to: ‘/tmp/sonnets.txt’\n",
            "\n",
            "\r/tmp/sonnets.txt      0%[                    ]       0  --.-KB/s               \r/tmp/sonnets.txt    100%[===================>]  91.38K  --.-KB/s    in 0.001s  \n",
            "\n",
            "2020-04-30 04:40:28 (154 MB/s) - ‘/tmp/sonnets.txt’ saved [93578/93578]\n",
            "\n"
          ],
          "name": "stdout"
        }
      ]
    },
    {
      "cell_type": "markdown",
      "metadata": {
        "id": "OjEiNekZG3pM",
        "colab_type": "text"
      },
      "source": [
        "### Tokenizing Text Data"
      ]
    },
    {
      "cell_type": "code",
      "metadata": {
        "id": "e-ETt4DjG8rS",
        "colab_type": "code",
        "colab": {}
      },
      "source": [
        "tokenizer=Tokenizer()"
      ],
      "execution_count": 0,
      "outputs": []
    },
    {
      "cell_type": "code",
      "metadata": {
        "id": "HOU24R7cHCzl",
        "colab_type": "code",
        "colab": {}
      },
      "source": [
        "tokenizer.fit_on_texts(text)"
      ],
      "execution_count": 0,
      "outputs": []
    },
    {
      "cell_type": "code",
      "metadata": {
        "id": "jMra7QPGHGvT",
        "colab_type": "code",
        "colab": {
          "base_uri": "https://localhost:8080/",
          "height": 34
        },
        "outputId": "2eeac613-386a-4811-c694-8d06b7a59e66"
      },
      "source": [
        "vocab_size=len(tokenizer.word_index)+1\n",
        "vocab_size"
      ],
      "execution_count": 7,
      "outputs": [
        {
          "output_type": "execute_result",
          "data": {
            "text/plain": [
              "3211"
            ]
          },
          "metadata": {
            "tags": []
          },
          "execution_count": 7
        }
      ]
    },
    {
      "cell_type": "markdown",
      "metadata": {
        "id": "qQ-5_c6sHqcu",
        "colab_type": "text"
      },
      "source": [
        "### Creating Sequence and Padding Text \n"
      ]
    },
    {
      "cell_type": "code",
      "metadata": {
        "id": "pOTtYE84HpbU",
        "colab_type": "code",
        "colab": {}
      },
      "source": [
        "input_sequence=[]\n",
        "for i in text:\n",
        "  sequence=tokenizer.texts_to_sequences([i])[0]\n",
        "  for j in range(1,len(sequence)):\n",
        "    ngrams=sequence[:j+1]\n",
        "    input_sequence.append(ngrams)"
      ],
      "execution_count": 0,
      "outputs": []
    },
    {
      "cell_type": "code",
      "metadata": {
        "id": "AdG07PngHp9B",
        "colab_type": "code",
        "colab": {
          "base_uri": "https://localhost:8080/",
          "height": 34
        },
        "outputId": "7f24bb0d-ea32-4859-87b2-062e3ca3e1d4"
      },
      "source": [
        "max_len=0\n",
        "for i in input_sequence:\n",
        "  x=len(i)\n",
        "  if x>max_len:\n",
        "    max_len=x\n",
        "max_len"
      ],
      "execution_count": 9,
      "outputs": [
        {
          "output_type": "execute_result",
          "data": {
            "text/plain": [
              "11"
            ]
          },
          "metadata": {
            "tags": []
          },
          "execution_count": 9
        }
      ]
    },
    {
      "cell_type": "code",
      "metadata": {
        "id": "65ySNbiwJhGL",
        "colab_type": "code",
        "colab": {
          "base_uri": "https://localhost:8080/",
          "height": 139
        },
        "outputId": "130992b6-f6c6-4185-f2d9-1ed5d5cc0f8f"
      },
      "source": [
        "input_sequence=pad_sequences(input_sequence,maxlen=max_len)\n",
        "input_sequence"
      ],
      "execution_count": 10,
      "outputs": [
        {
          "output_type": "execute_result",
          "data": {
            "text/plain": [
              "array([[   0,    0,    0, ...,    0,   34,  417],\n",
              "       [   0,    0,    0, ...,   34,  417,  877],\n",
              "       [   0,    0,    0, ...,  417,  877,  166],\n",
              "       ...,\n",
              "       [   0,    0,    0, ...,  493,  493, 3210],\n",
              "       [   0,    0,    0, ...,  493, 3210,   15],\n",
              "       [   0,    0,    0, ..., 3210,   15,   14]], dtype=int32)"
            ]
          },
          "metadata": {
            "tags": []
          },
          "execution_count": 10
        }
      ]
    },
    {
      "cell_type": "markdown",
      "metadata": {
        "id": "ZHyVw_8TKLGJ",
        "colab_type": "text"
      },
      "source": [
        "### Creating Predictors and Labels"
      ]
    },
    {
      "cell_type": "code",
      "metadata": {
        "id": "DGzU2HSzJvr4",
        "colab_type": "code",
        "colab": {
          "base_uri": "https://localhost:8080/",
          "height": 139
        },
        "outputId": "5260c8c1-0d2f-45e3-9e44-456d95b16f92"
      },
      "source": [
        "predictors=input_sequence[:,:-1]\n",
        "predictors"
      ],
      "execution_count": 11,
      "outputs": [
        {
          "output_type": "execute_result",
          "data": {
            "text/plain": [
              "array([[   0,    0,    0, ...,    0,    0,   34],\n",
              "       [   0,    0,    0, ...,    0,   34,  417],\n",
              "       [   0,    0,    0, ...,   34,  417,  877],\n",
              "       ...,\n",
              "       [   0,    0,    0, ..., 3209,  493,  493],\n",
              "       [   0,    0,    0, ...,  493,  493, 3210],\n",
              "       [   0,    0,    0, ...,  493, 3210,   15]], dtype=int32)"
            ]
          },
          "metadata": {
            "tags": []
          },
          "execution_count": 11
        }
      ]
    },
    {
      "cell_type": "code",
      "metadata": {
        "id": "BqjyywySJ9q7",
        "colab_type": "code",
        "colab": {
          "base_uri": "https://localhost:8080/",
          "height": 34
        },
        "outputId": "c252ecdf-1921-4175-806e-5d794e12bb60"
      },
      "source": [
        "labels=input_sequence[:,-1]\n",
        "labels"
      ],
      "execution_count": 12,
      "outputs": [
        {
          "output_type": "execute_result",
          "data": {
            "text/plain": [
              "array([ 417,  877,  166, ..., 3210,   15,   14], dtype=int32)"
            ]
          },
          "metadata": {
            "tags": []
          },
          "execution_count": 12
        }
      ]
    },
    {
      "cell_type": "markdown",
      "metadata": {
        "id": "Od_CpIDTKXax",
        "colab_type": "text"
      },
      "source": [
        "### Creating Encoding for Classes\n"
      ]
    },
    {
      "cell_type": "code",
      "metadata": {
        "id": "2PR0uPyvKcqK",
        "colab_type": "code",
        "colab": {}
      },
      "source": [
        "labels=ku.to_categorical(labels,num_classes=vocab_size)"
      ],
      "execution_count": 0,
      "outputs": []
    },
    {
      "cell_type": "code",
      "metadata": {
        "id": "bRA5Z5ZpK4qm",
        "colab_type": "code",
        "colab": {
          "base_uri": "https://localhost:8080/",
          "height": 139
        },
        "outputId": "0ea43fa1-0c10-4118-be1f-59b6327d649a"
      },
      "source": [
        "labels"
      ],
      "execution_count": 14,
      "outputs": [
        {
          "output_type": "execute_result",
          "data": {
            "text/plain": [
              "array([[0., 0., 0., ..., 0., 0., 0.],\n",
              "       [0., 0., 0., ..., 0., 0., 0.],\n",
              "       [0., 0., 0., ..., 0., 0., 0.],\n",
              "       ...,\n",
              "       [0., 0., 0., ..., 0., 0., 1.],\n",
              "       [0., 0., 0., ..., 0., 0., 0.],\n",
              "       [0., 0., 0., ..., 0., 0., 0.]], dtype=float32)"
            ]
          },
          "metadata": {
            "tags": []
          },
          "execution_count": 14
        }
      ]
    },
    {
      "cell_type": "markdown",
      "metadata": {
        "id": "VUDlzLm_K_03",
        "colab_type": "text"
      },
      "source": [
        "### Building Models"
      ]
    },
    {
      "cell_type": "markdown",
      "metadata": {
        "id": "pdNMYptcLD9m",
        "colab_type": "text"
      },
      "source": [
        "#### Multilayer Bidirectional LSTM"
      ]
    },
    {
      "cell_type": "code",
      "metadata": {
        "id": "AmDNDwMjK9UB",
        "colab_type": "code",
        "colab": {}
      },
      "source": [
        "model=Sequential()"
      ],
      "execution_count": 0,
      "outputs": []
    },
    {
      "cell_type": "code",
      "metadata": {
        "id": "DWuhD4T0Nitq",
        "colab_type": "code",
        "colab": {}
      },
      "source": [
        "model.add(Embedding(vocab_size,100,input_length=max_len-1))\n",
        "model.add(Dropout(0.2))\n",
        "model.add(Bidirectional(LSTM(128,return_sequences=True)))\n",
        "model.add(Dropout(0.2))\n",
        "model.add(Bidirectional(LSTM(128)))\n",
        "model.add(Dense(vocab_size,activation='softmax'))"
      ],
      "execution_count": 0,
      "outputs": []
    },
    {
      "cell_type": "code",
      "metadata": {
        "id": "s8fb5-brNxDE",
        "colab_type": "code",
        "colab": {
          "base_uri": "https://localhost:8080/",
          "height": 367
        },
        "outputId": "009d3960-584c-427e-ef2d-de8e02f59e78"
      },
      "source": [
        "model.summary()"
      ],
      "execution_count": 17,
      "outputs": [
        {
          "output_type": "stream",
          "text": [
            "Model: \"sequential\"\n",
            "_________________________________________________________________\n",
            "Layer (type)                 Output Shape              Param #   \n",
            "=================================================================\n",
            "embedding (Embedding)        (None, 10, 100)           321100    \n",
            "_________________________________________________________________\n",
            "dropout (Dropout)            (None, 10, 100)           0         \n",
            "_________________________________________________________________\n",
            "bidirectional (Bidirectional (None, 10, 256)           234496    \n",
            "_________________________________________________________________\n",
            "dropout_1 (Dropout)          (None, 10, 256)           0         \n",
            "_________________________________________________________________\n",
            "bidirectional_1 (Bidirection (None, 256)               394240    \n",
            "_________________________________________________________________\n",
            "dense (Dense)                (None, 3211)              825227    \n",
            "=================================================================\n",
            "Total params: 1,775,063\n",
            "Trainable params: 1,775,063\n",
            "Non-trainable params: 0\n",
            "_________________________________________________________________\n"
          ],
          "name": "stdout"
        }
      ]
    },
    {
      "cell_type": "code",
      "metadata": {
        "id": "Y9BMB3jjOOnl",
        "colab_type": "code",
        "colab": {}
      },
      "source": [
        "model.compile(optimizer='adam',loss='categorical_crossentropy',metrics=['accuracy'])"
      ],
      "execution_count": 0,
      "outputs": []
    },
    {
      "cell_type": "code",
      "metadata": {
        "id": "CHh2Z-rtOdbZ",
        "colab_type": "code",
        "colab": {
          "base_uri": "https://localhost:8080/",
          "height": 1000
        },
        "outputId": "89a617ea-dcc5-48be-cf74-b1a17531784e"
      },
      "source": [
        "history=model.fit(predictors,labels,epochs=130)"
      ],
      "execution_count": 19,
      "outputs": [
        {
          "output_type": "stream",
          "text": [
            "Epoch 1/130\n",
            "484/484 [==============================] - 5s 11ms/step - loss: 6.8688 - accuracy: 0.0231\n",
            "Epoch 2/130\n",
            "484/484 [==============================] - 5s 11ms/step - loss: 6.4749 - accuracy: 0.0265\n",
            "Epoch 3/130\n",
            "484/484 [==============================] - 6s 11ms/step - loss: 6.3457 - accuracy: 0.0346\n",
            "Epoch 4/130\n",
            "484/484 [==============================] - 6s 11ms/step - loss: 6.2257 - accuracy: 0.0368\n",
            "Epoch 5/130\n",
            "484/484 [==============================] - 5s 11ms/step - loss: 6.1136 - accuracy: 0.0403\n",
            "Epoch 6/130\n",
            "484/484 [==============================] - 5s 11ms/step - loss: 5.9896 - accuracy: 0.0489\n",
            "Epoch 7/130\n",
            "484/484 [==============================] - 5s 11ms/step - loss: 5.8547 - accuracy: 0.0554\n",
            "Epoch 8/130\n",
            "484/484 [==============================] - 5s 11ms/step - loss: 5.7298 - accuracy: 0.0620\n",
            "Epoch 9/130\n",
            "484/484 [==============================] - 5s 11ms/step - loss: 5.5976 - accuracy: 0.0660\n",
            "Epoch 10/130\n",
            "484/484 [==============================] - 5s 11ms/step - loss: 5.4656 - accuracy: 0.0705\n",
            "Epoch 11/130\n",
            "484/484 [==============================] - 5s 11ms/step - loss: 5.3144 - accuracy: 0.0779\n",
            "Epoch 12/130\n",
            "484/484 [==============================] - 5s 11ms/step - loss: 5.1618 - accuracy: 0.0783\n",
            "Epoch 13/130\n",
            "484/484 [==============================] - 5s 11ms/step - loss: 5.0032 - accuracy: 0.0875\n",
            "Epoch 14/130\n",
            "484/484 [==============================] - 5s 11ms/step - loss: 4.8484 - accuracy: 0.0945\n",
            "Epoch 15/130\n",
            "484/484 [==============================] - 5s 11ms/step - loss: 4.7009 - accuracy: 0.1016\n",
            "Epoch 16/130\n",
            "484/484 [==============================] - 5s 11ms/step - loss: 4.5510 - accuracy: 0.1110\n",
            "Epoch 17/130\n",
            "484/484 [==============================] - 5s 11ms/step - loss: 4.4071 - accuracy: 0.1254\n",
            "Epoch 18/130\n",
            "484/484 [==============================] - 5s 11ms/step - loss: 4.2581 - accuracy: 0.1388\n",
            "Epoch 19/130\n",
            "484/484 [==============================] - 5s 11ms/step - loss: 4.1121 - accuracy: 0.1654\n",
            "Epoch 20/130\n",
            "484/484 [==============================] - 5s 11ms/step - loss: 3.9708 - accuracy: 0.1816\n",
            "Epoch 21/130\n",
            "484/484 [==============================] - 5s 11ms/step - loss: 3.8405 - accuracy: 0.1973\n",
            "Epoch 22/130\n",
            "484/484 [==============================] - 5s 11ms/step - loss: 3.6999 - accuracy: 0.2194\n",
            "Epoch 23/130\n",
            "484/484 [==============================] - 5s 11ms/step - loss: 3.5789 - accuracy: 0.2412\n",
            "Epoch 24/130\n",
            "484/484 [==============================] - 5s 11ms/step - loss: 3.4628 - accuracy: 0.2595\n",
            "Epoch 25/130\n",
            "484/484 [==============================] - 5s 11ms/step - loss: 3.3465 - accuracy: 0.2795\n",
            "Epoch 26/130\n",
            "484/484 [==============================] - 5s 11ms/step - loss: 3.2422 - accuracy: 0.2958\n",
            "Epoch 27/130\n",
            "484/484 [==============================] - 5s 11ms/step - loss: 3.1284 - accuracy: 0.3194\n",
            "Epoch 28/130\n",
            "484/484 [==============================] - 5s 11ms/step - loss: 3.0393 - accuracy: 0.3350\n",
            "Epoch 29/130\n",
            "484/484 [==============================] - 5s 11ms/step - loss: 2.9426 - accuracy: 0.3492\n",
            "Epoch 30/130\n",
            "484/484 [==============================] - 5s 11ms/step - loss: 2.8551 - accuracy: 0.3669\n",
            "Epoch 31/130\n",
            "484/484 [==============================] - 5s 11ms/step - loss: 2.7667 - accuracy: 0.3883\n",
            "Epoch 32/130\n",
            "484/484 [==============================] - 5s 11ms/step - loss: 2.6881 - accuracy: 0.4051\n",
            "Epoch 33/130\n",
            "484/484 [==============================] - 5s 11ms/step - loss: 2.6093 - accuracy: 0.4155\n",
            "Epoch 34/130\n",
            "484/484 [==============================] - 5s 11ms/step - loss: 2.5264 - accuracy: 0.4346\n",
            "Epoch 35/130\n",
            "484/484 [==============================] - 5s 11ms/step - loss: 2.4539 - accuracy: 0.4494\n",
            "Epoch 36/130\n",
            "484/484 [==============================] - 5s 10ms/step - loss: 2.3829 - accuracy: 0.4660\n",
            "Epoch 37/130\n",
            "484/484 [==============================] - 5s 11ms/step - loss: 2.3201 - accuracy: 0.4770\n",
            "Epoch 38/130\n",
            "484/484 [==============================] - 5s 11ms/step - loss: 2.2500 - accuracy: 0.4974\n",
            "Epoch 39/130\n",
            "484/484 [==============================] - 5s 10ms/step - loss: 2.1911 - accuracy: 0.5065\n",
            "Epoch 40/130\n",
            "484/484 [==============================] - 5s 10ms/step - loss: 2.1218 - accuracy: 0.5185\n",
            "Epoch 41/130\n",
            "484/484 [==============================] - 5s 10ms/step - loss: 2.0744 - accuracy: 0.5352\n",
            "Epoch 42/130\n",
            "484/484 [==============================] - 5s 10ms/step - loss: 2.0161 - accuracy: 0.5454\n",
            "Epoch 43/130\n",
            "484/484 [==============================] - 5s 11ms/step - loss: 1.9589 - accuracy: 0.5584\n",
            "Epoch 44/130\n",
            "484/484 [==============================] - 5s 11ms/step - loss: 1.8965 - accuracy: 0.5693\n",
            "Epoch 45/130\n",
            "484/484 [==============================] - 5s 11ms/step - loss: 1.8526 - accuracy: 0.5790\n",
            "Epoch 46/130\n",
            "484/484 [==============================] - 5s 11ms/step - loss: 1.8018 - accuracy: 0.5898\n",
            "Epoch 47/130\n",
            "484/484 [==============================] - 5s 11ms/step - loss: 1.7534 - accuracy: 0.5999\n",
            "Epoch 48/130\n",
            "484/484 [==============================] - 5s 11ms/step - loss: 1.7154 - accuracy: 0.6094\n",
            "Epoch 49/130\n",
            "484/484 [==============================] - 5s 11ms/step - loss: 1.6673 - accuracy: 0.6209\n",
            "Epoch 50/130\n",
            "484/484 [==============================] - 5s 11ms/step - loss: 1.6228 - accuracy: 0.6311\n",
            "Epoch 51/130\n",
            "484/484 [==============================] - 5s 10ms/step - loss: 1.5863 - accuracy: 0.6401\n",
            "Epoch 52/130\n",
            "484/484 [==============================] - 5s 11ms/step - loss: 1.5373 - accuracy: 0.6488\n",
            "Epoch 53/130\n",
            "484/484 [==============================] - 5s 11ms/step - loss: 1.4997 - accuracy: 0.6533\n",
            "Epoch 54/130\n",
            "484/484 [==============================] - 5s 11ms/step - loss: 1.4640 - accuracy: 0.6663\n",
            "Epoch 55/130\n",
            "484/484 [==============================] - 5s 11ms/step - loss: 1.4337 - accuracy: 0.6720\n",
            "Epoch 56/130\n",
            "484/484 [==============================] - 5s 11ms/step - loss: 1.4031 - accuracy: 0.6815\n",
            "Epoch 57/130\n",
            "484/484 [==============================] - 5s 11ms/step - loss: 1.3661 - accuracy: 0.6890\n",
            "Epoch 58/130\n",
            "484/484 [==============================] - 5s 11ms/step - loss: 1.3324 - accuracy: 0.6986\n",
            "Epoch 59/130\n",
            "484/484 [==============================] - 5s 11ms/step - loss: 1.2967 - accuracy: 0.7050\n",
            "Epoch 60/130\n",
            "484/484 [==============================] - 5s 10ms/step - loss: 1.2673 - accuracy: 0.7086\n",
            "Epoch 61/130\n",
            "484/484 [==============================] - 5s 11ms/step - loss: 1.2416 - accuracy: 0.7122\n",
            "Epoch 62/130\n",
            "484/484 [==============================] - 5s 11ms/step - loss: 1.2225 - accuracy: 0.7172\n",
            "Epoch 63/130\n",
            "484/484 [==============================] - 5s 11ms/step - loss: 1.1912 - accuracy: 0.7287\n",
            "Epoch 64/130\n",
            "484/484 [==============================] - 5s 11ms/step - loss: 1.1676 - accuracy: 0.7310\n",
            "Epoch 65/130\n",
            "484/484 [==============================] - 5s 11ms/step - loss: 1.1454 - accuracy: 0.7337\n",
            "Epoch 66/130\n",
            "484/484 [==============================] - 5s 11ms/step - loss: 1.1274 - accuracy: 0.7376\n",
            "Epoch 67/130\n",
            "484/484 [==============================] - 5s 11ms/step - loss: 1.0931 - accuracy: 0.7457\n",
            "Epoch 68/130\n",
            "484/484 [==============================] - 5s 11ms/step - loss: 1.0746 - accuracy: 0.7498\n",
            "Epoch 69/130\n",
            "484/484 [==============================] - 5s 11ms/step - loss: 1.0698 - accuracy: 0.7499\n",
            "Epoch 70/130\n",
            "484/484 [==============================] - 5s 11ms/step - loss: 1.0412 - accuracy: 0.7537\n",
            "Epoch 71/130\n",
            "484/484 [==============================] - 5s 11ms/step - loss: 1.0210 - accuracy: 0.7590\n",
            "Epoch 72/130\n",
            "484/484 [==============================] - 5s 10ms/step - loss: 1.0055 - accuracy: 0.7647\n",
            "Epoch 73/130\n",
            "484/484 [==============================] - 5s 11ms/step - loss: 0.9819 - accuracy: 0.7682\n",
            "Epoch 74/130\n",
            "484/484 [==============================] - 5s 11ms/step - loss: 0.9679 - accuracy: 0.7718\n",
            "Epoch 75/130\n",
            "484/484 [==============================] - 5s 11ms/step - loss: 0.9444 - accuracy: 0.7773\n",
            "Epoch 76/130\n",
            "484/484 [==============================] - 5s 11ms/step - loss: 0.9339 - accuracy: 0.7800\n",
            "Epoch 77/130\n",
            "484/484 [==============================] - 5s 11ms/step - loss: 0.9288 - accuracy: 0.7766\n",
            "Epoch 78/130\n",
            "484/484 [==============================] - 5s 11ms/step - loss: 0.9106 - accuracy: 0.7853\n",
            "Epoch 79/130\n",
            "484/484 [==============================] - 5s 11ms/step - loss: 0.9110 - accuracy: 0.7819\n",
            "Epoch 80/130\n",
            "484/484 [==============================] - 5s 11ms/step - loss: 0.8846 - accuracy: 0.7872\n",
            "Epoch 81/130\n",
            "484/484 [==============================] - 5s 10ms/step - loss: 0.8879 - accuracy: 0.7831\n",
            "Epoch 82/130\n",
            "484/484 [==============================] - 5s 11ms/step - loss: 0.8514 - accuracy: 0.7948\n",
            "Epoch 83/130\n",
            "484/484 [==============================] - 5s 11ms/step - loss: 0.8601 - accuracy: 0.7943\n",
            "Epoch 84/130\n",
            "484/484 [==============================] - 5s 10ms/step - loss: 0.8483 - accuracy: 0.7952\n",
            "Epoch 85/130\n",
            "484/484 [==============================] - 5s 10ms/step - loss: 0.8405 - accuracy: 0.7953\n",
            "Epoch 86/130\n",
            "484/484 [==============================] - 5s 11ms/step - loss: 0.8305 - accuracy: 0.7989\n",
            "Epoch 87/130\n",
            "484/484 [==============================] - 5s 11ms/step - loss: 0.8147 - accuracy: 0.8013\n",
            "Epoch 88/130\n",
            "484/484 [==============================] - 5s 11ms/step - loss: 0.8057 - accuracy: 0.8031\n",
            "Epoch 89/130\n",
            "484/484 [==============================] - 5s 11ms/step - loss: 0.7884 - accuracy: 0.8080\n",
            "Epoch 90/130\n",
            "484/484 [==============================] - 5s 11ms/step - loss: 0.7922 - accuracy: 0.8064\n",
            "Epoch 91/130\n",
            "484/484 [==============================] - 5s 11ms/step - loss: 0.7794 - accuracy: 0.8095\n",
            "Epoch 92/130\n",
            "484/484 [==============================] - 5s 11ms/step - loss: 0.7751 - accuracy: 0.8096\n",
            "Epoch 93/130\n",
            "484/484 [==============================] - 5s 11ms/step - loss: 0.7718 - accuracy: 0.8104\n",
            "Epoch 94/130\n",
            "484/484 [==============================] - 5s 11ms/step - loss: 0.7638 - accuracy: 0.8088\n",
            "Epoch 95/130\n",
            "484/484 [==============================] - 5s 11ms/step - loss: 0.7621 - accuracy: 0.8107\n",
            "Epoch 96/130\n",
            "484/484 [==============================] - 5s 11ms/step - loss: 0.7482 - accuracy: 0.8151\n",
            "Epoch 97/130\n",
            "484/484 [==============================] - 5s 11ms/step - loss: 0.7392 - accuracy: 0.8157\n",
            "Epoch 98/130\n",
            "484/484 [==============================] - 5s 11ms/step - loss: 0.7453 - accuracy: 0.8117\n",
            "Epoch 99/130\n",
            "484/484 [==============================] - 5s 11ms/step - loss: 0.7381 - accuracy: 0.8151\n",
            "Epoch 100/130\n",
            "484/484 [==============================] - 5s 11ms/step - loss: 0.7264 - accuracy: 0.8177\n",
            "Epoch 101/130\n",
            "484/484 [==============================] - 5s 11ms/step - loss: 0.7238 - accuracy: 0.8150\n",
            "Epoch 102/130\n",
            "484/484 [==============================] - 5s 11ms/step - loss: 0.7184 - accuracy: 0.8191\n",
            "Epoch 103/130\n",
            "484/484 [==============================] - 5s 10ms/step - loss: 0.7170 - accuracy: 0.8175\n",
            "Epoch 104/130\n",
            "484/484 [==============================] - 5s 10ms/step - loss: 0.7068 - accuracy: 0.8201\n",
            "Epoch 105/130\n",
            "484/484 [==============================] - 5s 11ms/step - loss: 0.7049 - accuracy: 0.8201\n",
            "Epoch 106/130\n",
            "484/484 [==============================] - 5s 10ms/step - loss: 0.6971 - accuracy: 0.8231\n",
            "Epoch 107/130\n",
            "484/484 [==============================] - 5s 11ms/step - loss: 0.6950 - accuracy: 0.8235\n",
            "Epoch 108/130\n",
            "484/484 [==============================] - 5s 10ms/step - loss: 0.6916 - accuracy: 0.8235\n",
            "Epoch 109/130\n",
            "484/484 [==============================] - 5s 11ms/step - loss: 0.6871 - accuracy: 0.8235\n",
            "Epoch 110/130\n",
            "484/484 [==============================] - 5s 11ms/step - loss: 0.6863 - accuracy: 0.8231\n",
            "Epoch 111/130\n",
            "484/484 [==============================] - 5s 11ms/step - loss: 0.6851 - accuracy: 0.8244\n",
            "Epoch 112/130\n",
            "484/484 [==============================] - 5s 11ms/step - loss: 0.6746 - accuracy: 0.8273\n",
            "Epoch 113/130\n",
            "484/484 [==============================] - 5s 11ms/step - loss: 0.6746 - accuracy: 0.8254\n",
            "Epoch 114/130\n",
            "484/484 [==============================] - 5s 11ms/step - loss: 0.6795 - accuracy: 0.8273\n",
            "Epoch 115/130\n",
            "484/484 [==============================] - 5s 10ms/step - loss: 0.6690 - accuracy: 0.8254\n",
            "Epoch 116/130\n",
            "484/484 [==============================] - 5s 11ms/step - loss: 0.6654 - accuracy: 0.8268\n",
            "Epoch 117/130\n",
            "484/484 [==============================] - 5s 11ms/step - loss: 0.6565 - accuracy: 0.8299\n",
            "Epoch 118/130\n",
            "484/484 [==============================] - 5s 11ms/step - loss: 0.6574 - accuracy: 0.8293\n",
            "Epoch 119/130\n",
            "484/484 [==============================] - 5s 11ms/step - loss: 0.6652 - accuracy: 0.8268\n",
            "Epoch 120/130\n",
            "484/484 [==============================] - 5s 11ms/step - loss: 0.6540 - accuracy: 0.8273\n",
            "Epoch 121/130\n",
            "484/484 [==============================] - 5s 11ms/step - loss: 0.6492 - accuracy: 0.8304\n",
            "Epoch 122/130\n",
            "484/484 [==============================] - 5s 11ms/step - loss: 0.6519 - accuracy: 0.8279\n",
            "Epoch 123/130\n",
            "484/484 [==============================] - 5s 11ms/step - loss: 0.6452 - accuracy: 0.8304\n",
            "Epoch 124/130\n",
            "484/484 [==============================] - 5s 11ms/step - loss: 0.6501 - accuracy: 0.8306\n",
            "Epoch 125/130\n",
            "484/484 [==============================] - 5s 11ms/step - loss: 0.6456 - accuracy: 0.8317\n",
            "Epoch 126/130\n",
            "484/484 [==============================] - 5s 11ms/step - loss: 0.6331 - accuracy: 0.8328\n",
            "Epoch 127/130\n",
            "484/484 [==============================] - 5s 11ms/step - loss: 0.6286 - accuracy: 0.8344\n",
            "Epoch 128/130\n",
            "484/484 [==============================] - 5s 11ms/step - loss: 0.6297 - accuracy: 0.8336\n",
            "Epoch 129/130\n",
            "484/484 [==============================] - 5s 11ms/step - loss: 0.6348 - accuracy: 0.8333\n",
            "Epoch 130/130\n",
            "484/484 [==============================] - 5s 11ms/step - loss: 0.6292 - accuracy: 0.8311\n"
          ],
          "name": "stdout"
        }
      ]
    },
    {
      "cell_type": "code",
      "metadata": {
        "id": "6iV-xk79OoKT",
        "colab_type": "code",
        "colab": {
          "base_uri": "https://localhost:8080/",
          "height": 265
        },
        "outputId": "d717e799-483e-4320-a463-29477d3f1134"
      },
      "source": [
        "plt.plot(history.history['accuracy'],label='accuracy')\n",
        "plt.legend()\n",
        "plt.show()"
      ],
      "execution_count": 20,
      "outputs": [
        {
          "output_type": "display_data",
          "data": {
            "image/png": "[encoded data removed]",
            "text/plain": [
              "<Figure size 432x288 with 1 Axes>"
            ]
          },
          "metadata": {
            "tags": [],
            "needs_background": "light"
          }
        }
      ]
    },
    {
      "cell_type": "markdown",
      "metadata": {
        "id": "lIIWcZJAdD9p",
        "colab_type": "text"
      },
      "source": [
        "#### Model has a accuracy of 83 %"
      ]
    },
    {
      "cell_type": "markdown",
      "metadata": {
        "id": "bcApTlS1dEJ7",
        "colab_type": "text"
      },
      "source": [
        "### Predicting new poem"
      ]
    },
    {
      "cell_type": "code",
      "metadata": {
        "id": "ELcihdi3dFF7",
        "colab_type": "code",
        "colab": {}
      },
      "source": [
        "new_text=\"Help me Obi Wan Kenobi, you're my only hope\"\n",
        "next_words = 100"
      ],
      "execution_count": 0,
      "outputs": []
    },
    {
      "cell_type": "code",
      "metadata": {
        "id": "qTLLDxTwdFIr",
        "colab_type": "code",
        "colab": {
          "base_uri": "https://localhost:8080/",
          "height": 54
        },
        "outputId": "3f94c92b-e0bb-4e60-9d6d-4d5f4a0b4701"
      },
      "source": [
        "for i in range(next_words):\n",
        "  tokens=tokenizer.texts_to_sequences([new_text])\n",
        "  padded_sequence=pad_sequences(tokens,maxlen=max_len-1)\n",
        "  prediction=model.predict_classes(padded_sequence)\n",
        "  \n",
        "  for word,index in tokenizer.word_index.items():\n",
        "    if index == prediction:\n",
        "      output_word = word\n",
        "      break\n",
        "  new_text = new_text+' ' + output_word\n",
        "print(new_text)"
      ],
      "execution_count": 33,
      "outputs": [
        {
          "output_type": "stream",
          "text": [
            "Help me Obi Wan Kenobi, you're my only hope to the brain that end to this face me live assured thee more ' ' this ' art be bold remains thou dost spend so free you ' thee not not your out ' ' my gain of me ' to me fair ' have no tongue ' see it in you to me strange rotten less upon ' bail eye's ' ' ' ' not me bold thee be say as me long thee whose rare ' ' ' ' thee come thy heart forbear more be die more rare torn old eyes in her hate ' are heart\n"
          ],
          "name": "stdout"
        }
      ]
    }
  ]
}